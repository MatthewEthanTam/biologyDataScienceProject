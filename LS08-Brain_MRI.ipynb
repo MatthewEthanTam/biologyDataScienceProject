{
 "cells": [
  {
   "attachments": {},
   "cell_type": "markdown",
   "metadata": {},
   "source": [
    "# Lesson 8: Downloading the dataset\n",
    "To download the dataset, the first thing you will need to do is create a kaggle account [here](https://www.kaggle.com/). Once you have created an account, you can download the dataset by clicking [here](https://www.kaggle.com/datasets/mateuszbuda/lgg-mri-segmentation). Once you have downloaded the dataset, you can unzip it and move it to the folder you cloned the repository to."
   ]
  },
  {
   "cell_type": "code",
   "execution_count": null,
   "metadata": {},
   "outputs": [],
   "source": []
  }
 ],
 "metadata": {
  "language_info": {
   "name": "python"
  },
  "orig_nbformat": 4
 },
 "nbformat": 4,
 "nbformat_minor": 2
}
