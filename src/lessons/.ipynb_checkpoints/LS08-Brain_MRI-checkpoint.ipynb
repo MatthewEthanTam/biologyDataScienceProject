{
 "cells": [
  {
   "cell_type": "markdown",
   "metadata": {},
   "source": [
    "# Lesson 8: Downloading the dataset\n",
    "To download the dataset, the first thing you will need to do is create a kaggle account [here](https://www.kaggle.com/). Once you have created an account, you can download the dataset by clicking [here](https://www.kaggle.com/datasets/mateuszbuda/lgg-mri-segmentation). Once you have downloaded the dataset, you can unzip it and move it to the folder you cloned the repository to."
   ]
  },
  {
   "cell_type": "code",
   "execution_count": null,
   "metadata": {},
   "outputs": [],
   "source": []
  }
 ],
 "metadata": {
  "kernelspec": {
   "display_name": "Python 3 (ipykernel)",
   "language": "python",
   "name": "python3"
  },
  "language_info": {
   "codemirror_mode": {
    "name": "ipython",
    "version": 3
   },
   "file_extension": ".py",
   "mimetype": "text/x-python",
   "name": "python",
   "nbconvert_exporter": "python",
   "pygments_lexer": "ipython3",
   "version": "3.11.3"
  }
 },
 "nbformat": 4,
 "nbformat_minor": 2
}
