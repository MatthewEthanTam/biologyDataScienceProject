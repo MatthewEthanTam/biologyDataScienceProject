{
 "cells": [
  {
   "attachments": {},
   "cell_type": "markdown",
   "metadata": {},
   "source": [
    "# Lesson 6: Human gut microbiome of the children with Autistic Spectrum Disorder (ASD)"
   ]
  },
  {
   "attachments": {},
   "cell_type": "markdown",
   "metadata": {},
   "source": [
    "## 6.1 Downloading the dataset\n",
    "To download the dataset, the first thing you will need to do is create a kaggle account [here](https://www.kaggle.com/). Once you have created an account, you can download the dataset by clicking [here](https://www.kaggle.com/datasets/antaresnyc/human-gut-microbiome-with-asd). Once you have downloaded the dataset, you can unzip it and move it to `biologyDataScienceProject/data/LS06-Data`.\n",
    "\n",
    "It should look like this:\n",
    "![image.png](../artifacts/LS06-Data.png)\n",
    "\n",
    "The dataset we will be using is called `ASD_metadata.csv`. This dataset contains information about the children with ASD. "
   ]
  },
  {
   "cell_type": "code",
   "execution_count": null,
   "metadata": {
    "vscode": {
     "languageId": "plaintext"
    }
   },
   "outputs": [],
   "source": []
  },
  {
   "attachments": {},
   "cell_type": "markdown",
   "metadata": {},
   "source": []
  }
 ],
 "metadata": {
  "language_info": {
   "name": "python"
  },
  "orig_nbformat": 4
 },
 "nbformat": 4,
 "nbformat_minor": 2
}
