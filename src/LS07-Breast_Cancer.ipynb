{
 "cells": [
  {
   "attachments": {},
   "cell_type": "markdown",
   "metadata": {},
   "source": [
    "# Lesson 7 Predicting Brest Cancer\n",
    "## 7.1 Downloading the Dataset\n",
    "To download the dataset, the first thing you will need to do is create a kaggle account [here](https://www.kaggle.com/). Once you have created an account, you can download the dataset by clicking [here](https://www.kaggle.com/datasets/uciml/breast-cancer-wisconsin-data). Once you have downloaded the dataset, you can unzip it and move it to `biologyDataScienceProject/data/LS07-Data`.\n",
    "\n",
    "It should look like this when you are done:\n",
    "![image.png](../artifacts/LS07-Data.png)\n",
    "\n",
    "The dataset we will be using is the Breast Cancer Wisconsin (Diagnostic) Data Set. The dataset contains 569 samples of malignant and benign tumor cells. The first two columns in the dataset store the unique ID numbers of the samples and the corresponding diagnosis (M=malignant, B=benign), respectively. Columns 3-32 contain 30 real-value features that have been computed from digitized images of the cell nuclei, which can be used to build a model to predict whether a tumor is benign or malignant.\n"
   ]
  },
  {
   "cell_type": "code",
   "execution_count": null,
   "metadata": {},
   "outputs": [],
   "source": []
  }
 ],
 "metadata": {
  "language_info": {
   "name": "python"
  },
  "orig_nbformat": 4
 },
 "nbformat": 4,
 "nbformat_minor": 2
}
